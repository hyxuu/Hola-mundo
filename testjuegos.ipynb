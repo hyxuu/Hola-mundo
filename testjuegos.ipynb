{
  "nbformat": 4,
  "nbformat_minor": 0,
  "metadata": {
    "colab": {
      "provenance": [],
      "authorship_tag": "ABX9TyON8tjEWqGuzI2u2NIqZiOm",
      "include_colab_link": true
    },
    "kernelspec": {
      "name": "python3",
      "display_name": "Python 3"
    },
    "language_info": {
      "name": "python"
    }
  },
  "cells": [
    {
      "cell_type": "markdown",
      "metadata": {
        "id": "view-in-github",
        "colab_type": "text"
      },
      "source": [
        "<a href=\"https://colab.research.google.com/github/hyxuu/hola-mundo/blob/main/testjuegos.ipynb\" target=\"_parent\"><img src=\"https://colab.research.google.com/assets/colab-badge.svg\" alt=\"Open In Colab\"/></a>"
      ]
    },
    {
      "cell_type": "markdown",
      "source": [
        "## CODIGO DE PIEDRA PAPEL O TIJERA\n",
        "JUEGO DE PIEDRA PAPEL O TIJERA CON LA COMPU TU MAYOR ENEMIGO >:D"
      ],
      "metadata": {
        "id": "CLRmsPsdDdGS"
      }
    },
    {
      "cell_type": "code",
      "execution_count": null,
      "metadata": {
        "colab": {
          "base_uri": "https://localhost:8080/"
        },
        "collapsed": true,
        "id": "rgx8Vu6XBw6L",
        "outputId": "fa4a084e-7140-4709-cd43-488e600ddd0d"
      },
      "outputs": [
        {
          "output_type": "stream",
          "name": "stdout",
          "text": [
            "Vas a jugar piedra papel o tijera contra el computador\n",
            "para PIEDRA digita 1\n",
            "para PAPEL digita 2\n",
            "para TIJERA digita 3\n"
          ]
        }
      ],
      "source": [
        "import random\n",
        "\n",
        "print(\"Vas a jugar piedra papel o tijera contra el computador\")\n",
        "print(\"para PIEDRA digita 1\")\n",
        "print(\"para PAPEL digita 2\")\n",
        "print(\"para TIJERA digita 3\")\n",
        "\n",
        "miEleccion=int(input(\"Escribe tu eleccion(1, 2 o 3): \"))\n",
        "if miEleccion == 1:\n",
        "   print(\"ELEGISTE PIEDRA\")\n",
        "elif miEleccion == 2:\n",
        "   print(\"ELEGISTE PAPEL\")\n",
        "elif miEleccion == 3:\n",
        "   print(\"ELEGISTE TIJERA\")\n",
        "else:\n",
        "   print(\"DEBE ELEGIR UN NUMERO ENTRE 1 Y 3\")\n",
        "   exit()\n",
        "eleccionCompu=random.randint(1,3)\n",
        "if eleccionCompu == 1:\n",
        "    print(\"LA COMPU ELIGIO PIEDRA\")\n",
        "elif eleccionCompu == 2:\n",
        "   print(\"LA COMPU ELIGIO PAPEL\")\n",
        "elif eleccionCompu == 3:\n",
        "   print(\"LA COMPU ELIGIO TIJERA\")\n",
        "\n",
        "if miEleccion == eleccionCompu:\n",
        "   print(\"NADIE GANA\")\n",
        "elif miEleccion == 1 and eleccionCompu == 2:\n",
        "   print(\"TE GANO LA COMPU XD\")\n",
        "elif miEleccion == 1 and eleccionCompu == 3:\n",
        "   print(\"FELICIDADES LE GANASTE A LA COMPU\")\n",
        "elif miEleccion == 2 and eleccionCompu == 1:\n",
        "   print(\"FELICIDADES LE GANASTE A LA COMPU\")\n",
        "elif miEleccion == 2 and eleccionCompu == 3:\n",
        "   print(\"TE GANO LA COMPU XD\")\n",
        "elif miEleccion == 3 and eleccionCompu == 1:\n",
        "   print(\"TE GANO LA COMPU XD\")\n",
        "elif miEleccion == 3 and eleccionCompu == 2:\n",
        "   print(\"FELICIDADES LE GANASTE A LA COMPU\")"
      ]
    },
    {
      "cell_type": "markdown",
      "source": [
        "## EL AHORCADO\n",
        "adivina las palabras o estira la pata con el juego de palabras XD"
      ],
      "metadata": {
        "id": "HBEH8mUYCfZG"
      }
    },
    {
      "cell_type": "code",
      "source": [
        "import random\n",
        "\n",
        "def elegir_palabra():\n",
        "    palabras = [\"python\", \"programacion\", \"ahorcado\", \"desarrollo\", \"juego\"]\n",
        "    return random.choice(palabras)\n",
        "\n",
        "def mostrar_estado(palabra, letras_adivinadas):\n",
        "    estado = ''.join([letra if letra in letras_adivinadas else '_' for letra in palabra])\n",
        "    return estado\n",
        "\n",
        "def jugar():\n",
        "    palabra_secreta = elegir_palabra()\n",
        "    letras_adivinadas = set()\n",
        "    intentos_restantes = 6\n",
        "\n",
        "    print(\"¡Bienvenido al juego del Ahorcado!\")\n",
        "\n",
        "    while intentos_restantes > 0:\n",
        "        print(\"\\nPalabra:\", mostrar_estado(palabra_secreta, letras_adivinadas))\n",
        "        print(f\"Tienes {intentos_restantes} intentos restantes.\")\n",
        "        letra = input(\"Adivina una letra: \").lower()\n",
        "\n",
        "        if letra in letras_adivinadas:\n",
        "            print(\"Ya has adivinado esa letra. Intenta con otra.\")\n",
        "            continue\n",
        "\n",
        "        letras_adivinadas.add(letra)\n",
        "\n",
        "        if letra in palabra_secreta:\n",
        "            print(\"¡Bien hecho! La letra está en la palabra.\")\n",
        "        else:\n",
        "            intentos_restantes -= 1\n",
        "            print(\"Lo siento, esa letra no está en la palabra.\")\n",
        "\n",
        "        if all(letra in letras_adivinadas for letra in palabra_secreta):\n",
        "            print(f\"¡Felicidades! Has adivinado la palabra: {palabra_secreta}\")\n",
        "            break\n",
        "    else:\n",
        "        print(f\"¡Has perdido! La palabra era: {palabra_secreta}\")\n",
        "\n",
        "if __name__ == \"__main__\":\n",
        "    jugar()"
      ],
      "metadata": {
        "id": "cc3NQZHBFlKC"
      },
      "execution_count": null,
      "outputs": []
    }
  ]
}